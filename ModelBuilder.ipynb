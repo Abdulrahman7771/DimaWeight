{
 "cells": [
  {
   "cell_type": "code",
   "execution_count": 1,
   "metadata": {},
   "outputs": [
    {
     "name": "stderr",
     "output_type": "stream",
     "text": [
      "2024-05-14 23:56:07.462217: I tensorflow/core/util/port.cc:113] oneDNN custom operations are on. You may see slightly different numerical results due to floating-point round-off errors from different computation orders. To turn them off, set the environment variable `TF_ENABLE_ONEDNN_OPTS=0`.\n",
      "2024-05-14 23:56:07.895920: E external/local_xla/xla/stream_executor/cuda/cuda_dnn.cc:9261] Unable to register cuDNN factory: Attempting to register factory for plugin cuDNN when one has already been registered\n",
      "2024-05-14 23:56:07.896091: E external/local_xla/xla/stream_executor/cuda/cuda_fft.cc:607] Unable to register cuFFT factory: Attempting to register factory for plugin cuFFT when one has already been registered\n",
      "2024-05-14 23:56:07.936036: E external/local_xla/xla/stream_executor/cuda/cuda_blas.cc:1515] Unable to register cuBLAS factory: Attempting to register factory for plugin cuBLAS when one has already been registered\n",
      "2024-05-14 23:56:08.202966: I tensorflow/core/platform/cpu_feature_guard.cc:182] This TensorFlow binary is optimized to use available CPU instructions in performance-critical operations.\n",
      "To enable the following instructions: AVX2 AVX512F AVX512_VNNI FMA, in other operations, rebuild TensorFlow with the appropriate compiler flags.\n",
      "2024-05-14 23:56:11.366905: W tensorflow/compiler/tf2tensorrt/utils/py_utils.cc:38] TF-TRT Warning: Could not find TensorRT\n"
     ]
    }
   ],
   "source": [
    "import pandas as pd\n",
    "import numpy as np\n",
    "import matplotlib.pyplot as plt\n",
    "import os\n",
    "import cv2\n",
    "from keras.preprocessing.image import load_img,ImageDataGenerator\n",
    "from sklearn.model_selection import train_test_split\n",
    "from keras import Sequential,callbacks\n",
    "from keras.models import load_model\n",
    "from keras.regularizers import l2\n",
    "from keras.layers import Conv2D,Convolution2D, MaxPooling2D,MaxPool2D, Flatten, Dense,BatchNormalization,Dropout,Activation\n",
    "from keras.optimizers import Adam,SGD\n",
    "#from keras.callbacks import ReduceLROnPlateau"
   ]
  },
  {
   "cell_type": "code",
   "execution_count": 2,
   "metadata": {},
   "outputs": [],
   "source": [
    "os.environ[\"TF_GPU_ALLOCATOR\"] = \"cuda_malloc_async\""
   ]
  },
  {
   "cell_type": "code",
   "execution_count": 3,
   "metadata": {},
   "outputs": [
    {
     "name": "stdout",
     "output_type": "stream",
     "text": [
      "/home/abdulrahman/Projects/Waste\n",
      "Metal\n",
      "Plastic\n",
      "Food Organics\n",
      "[1, 1, 1, 1, 1, 1, 1, 1, 1, 1, 1, 1, 1, 1, 1, 1, 1, 1, 1, 1, 1, 1, 1, 1, 1, 1, 1, 1, 1, 1, 1, 1, 1, 1, 1, 1, 1, 1, 1, 1, 1, 1, 1, 1, 1, 1, 1, 1, 1, 1, 1, 1, 1, 1, 1, 1, 1, 1, 1, 1, 1, 1, 1, 1, 1, 1, 1, 1, 1, 1, 1, 1, 1, 1, 1, 1, 1, 1, 1, 1, 1, 1, 1, 1, 1, 1, 1, 1, 1, 1, 1, 1, 1, 1, 1, 1, 1, 1, 1, 1, 1, 1, 1, 1, 1, 1, 1, 1, 1, 1, 1, 1, 1, 1, 1, 1, 1, 1, 1, 1, 1, 1, 1, 1, 1, 1, 1, 1, 1, 1, 1, 1, 1, 1, 1, 1, 1, 1, 1, 1, 1, 1, 1, 1, 1, 1, 1, 1, 1, 1, 1, 1, 1, 1, 1, 1, 1, 1, 1, 1, 1, 1, 1, 1, 1, 1, 1, 1, 1, 1, 1, 1, 1, 1, 1, 1, 1, 1, 1, 1, 1, 1, 1, 1, 1, 1, 1, 1, 1, 1, 1, 1, 1, 1, 1, 1, 1, 1, 1, 1, 1, 1, 1, 1, 1, 1, 1, 1, 1, 1, 1, 1, 1, 1, 1, 1, 1, 1, 1, 1, 1, 1, 1, 1, 1, 1, 1, 1, 1, 1, 1, 1, 1, 1, 1, 1, 1, 1, 1, 1, 1, 1, 1, 1, 1, 1, 1, 1, 1, 1, 1, 1, 1, 1, 1, 1, 1, 1, 1, 1, 1, 1, 1, 1, 1, 1, 1, 1, 1, 1, 1, 1, 1, 1, 1, 1, 1, 1, 1, 1, 1, 1, 1, 1, 1, 1, 1, 1, 1, 1, 1, 1, 1, 1, 1, 1, 1, 1, 1, 1, 1, 1, 1, 1, 1, 1, 1, 1, 1, 1, 1, 1, 1, 1, 1, 1, 1, 1, 1, 1, 1, 1, 1, 1, 1, 1, 1, 1, 1, 1, 1, 1, 1, 1, 1, 1, 1, 1, 1, 1, 1, 1, 1, 1, 1, 1, 1, 1, 1, 1, 1, 1, 1, 1, 1, 1, 1, 1, 1, 1, 1, 1, 1, 1, 1, 1, 1, 1, 1, 1, 1, 1, 1, 1, 1, 1, 1, 1, 1, 1, 1, 1, 1, 1, 1, 1, 1, 1, 1, 1, 1, 1, 1, 1, 1, 1, 1, 1, 1, 1, 1, 1, 1, 1, 1, 1, 1, 1, 1, 1, 1, 1, 1, 1, 1, 1, 1, 1, 1, 1, 1, 1, 1, 1, 1, 1, 1, 1, 1, 1, 1, 1, 1, 1, 1, 1, 1, 1, 1, 1, 1, 1, 1, 1, 1, 1, 1, 1, 1, 1, 1, 1, 1, 1, 1, 1, 1, 1, 1, 1, 1, 1, 1, 1, 1, 1, 1, 1, 1, 1, 1, 1, 1, 1, 1, 1, 1, 1, 1, 1, 1, 1, 1, 1, 1, 1, 1, 1, 1, 1, 1, 1, 1, 1, 1, 1, 1, 1, 1, 1, 1, 1, 1, 1, 1, 1, 1, 1, 1, 1, 1, 1, 1, 1, 1, 1, 1, 1, 1, 1, 1, 1, 1, 1, 1, 1, 1, 1, 1, 1, 1, 1, 1, 1, 1, 1, 1, 1, 1, 1, 1, 1, 1, 1, 1, 1, 1, 1, 1, 1, 1, 1, 1, 1, 1, 1, 1, 1, 1, 1, 1, 1, 1, 1, 1, 1, 1, 1, 1, 1, 1, 1, 1, 1, 1, 1, 1, 1, 1, 1, 1, 1, 1, 1, 1, 1, 1, 1, 1, 1, 1, 1, 1, 1, 1, 1, 1, 1, 1, 1, 1, 1, 1, 1, 1, 1, 1, 1, 1, 1, 1, 1, 1, 1, 1, 1, 1, 1, 1, 1, 1, 1, 1, 1, 1, 1, 1, 1, 1, 1, 1, 1, 1, 1, 1, 1, 1, 1, 1, 1, 1, 1, 1, 1, 1, 1, 1, 1, 1, 1, 1, 1, 1, 1, 1, 1, 1, 1, 1, 1, 1, 1, 1, 1, 1, 1, 1, 1, 1, 1, 1, 1, 1, 1, 1, 1, 1, 1, 1, 1, 1, 1, 1, 1, 1, 1, 1, 1, 1, 1, 1, 1, 1, 1, 1, 1, 1, 1, 1, 1, 1, 1, 1, 1, 1, 1, 1, 1, 1, 1, 1, 1, 1, 1, 1, 1, 1, 1, 1, 1, 1, 1, 1, 1, 1, 1, 1, 1, 1, 1, 1, 1, 1, 1, 1, 1, 1, 1, 1, 1, 1, 1, 1, 1, 1, 1, 1, 1, 1, 1, 1, 1, 1, 1, 1, 1, 1, 1, 1, 1, 1, 1, 1, 1, 1, 1, 1, 1, 1, 1, 1, 1, 1, 1, 1, 1, 1, 1, 1, 1, 1, 1, 1, 1, 1, 1, 1, 1, 1, 1, 1, 1, 1, 1, 1, 1, 1, 1, 1, 2, 2, 2, 2, 2, 2, 2, 2, 2, 2, 2, 2, 2, 2, 2, 2, 2, 2, 2, 2, 2, 2, 2, 2, 2, 2, 2, 2, 2, 2, 2, 2, 2, 2, 2, 2, 2, 2, 2, 2, 2, 2, 2, 2, 2, 2, 2, 2, 2, 2, 2, 2, 2, 2, 2, 2, 2, 2, 2, 2, 2, 2, 2, 2, 2, 2, 2, 2, 2, 2, 2, 2, 2, 2, 2, 2, 2, 2, 2, 2, 2, 2, 2, 2, 2, 2, 2, 2, 2, 2, 2, 2, 2, 2, 2, 2, 2, 2, 2, 2, 2, 2, 2, 2, 2, 2, 2, 2, 2, 2, 2, 2, 2, 2, 2, 2, 2, 2, 2, 2, 2, 2, 2, 2, 2, 2, 2, 2, 2, 2, 2, 2, 2, 2, 2, 2, 2, 2, 2, 2, 2, 2, 2, 2, 2, 2, 2, 2, 2, 2, 2, 2, 2, 2, 2, 2, 2, 2, 2, 2, 2, 2, 2, 2, 2, 2, 2, 2, 2, 2, 2, 2, 2, 2, 2, 2, 2, 2, 2, 2, 2, 2, 2, 2, 2, 2, 2, 2, 2, 2, 2, 2, 2, 2, 2, 2, 2, 2, 2, 2, 2, 2, 2, 2, 2, 2, 2, 2, 2, 2, 2, 2, 2, 2, 2, 2, 2, 2, 2, 2, 2, 2, 2, 2, 2, 2, 2, 2, 2, 2, 2, 2, 2, 2, 2, 2, 2, 2, 2, 2, 2, 2, 2, 2, 2, 2, 2, 2, 2, 2, 2, 2, 2, 2, 2, 2, 2, 2, 2, 2, 2, 2, 2, 2, 2, 2, 2, 2, 2, 2, 2, 2, 2, 2, 2, 2, 2, 2, 2, 2, 2, 2, 2, 2, 2, 2, 2, 2, 2, 2, 2, 2, 2, 2, 2, 2, 2, 2, 2, 2, 2, 2, 2, 2, 2, 2, 2, 2, 2, 2, 2, 2, 2, 2, 2, 2, 2, 2, 2, 2, 2, 2, 2, 2, 2, 2, 2, 2, 2, 2, 2, 2, 2, 2, 2, 2, 2, 2, 2, 2, 2, 2, 2, 2, 2, 2, 2, 2, 2, 2, 2, 2, 2, 2, 2, 2, 2, 2, 2, 2, 2, 2, 2, 2, 2, 2, 2, 2, 2, 2, 2, 2, 2, 2, 2, 2, 2, 2, 2, 2, 2, 2, 2, 2, 2, 2, 2, 2, 2, 2, 2, 2, 2, 2, 2, 2, 2, 2, 2, 2, 2, 2, 2, 2, 2, 2, 2, 2, 2, 2, 2, 2, 2, 2, 2, 2, 2, 2, 2, 2, 2, 2, 2, 2, 2, 2, 2, 2, 2, 2, 2, 2, 2, 2, 2, 2, 2, 2, 2, 2, 2, 2, 2, 2, 2, 2, 2, 2, 2, 2, 2, 2, 2, 2, 2, 2, 2, 2, 2, 2, 2, 2, 2, 2, 2, 2, 2, 2, 2, 2, 2, 2, 2, 2, 2, 2, 2, 2, 2, 2, 2, 2, 2, 2, 2, 2, 2, 2, 2, 2, 2, 2, 2, 2, 2, 2, 2, 2, 2, 2, 2, 2, 2, 2, 2, 2, 2, 2, 2, 2, 2, 2, 2, 2, 2, 2, 2, 2, 2, 2, 2, 2, 2, 2, 2, 2, 2, 2, 2, 2, 2, 2, 2, 2, 2, 2, 2, 2, 2, 2, 2, 2, 2, 2, 2, 2, 2, 2, 2, 2, 2, 2, 2, 2, 2, 2, 2, 2, 2, 2, 2, 2, 2, 2, 2, 2, 2, 2, 2, 2, 2, 2, 2, 2, 2, 2, 2, 2, 2, 2, 2, 2, 2, 2, 2, 2, 2, 2, 2, 2, 2, 2, 2, 2, 2, 2, 2, 2, 2, 2, 2, 2, 2, 2, 2, 2, 2, 2, 2, 2, 2, 2, 2, 2, 2, 2, 2, 2, 2, 2, 2, 2, 2, 2, 2, 2, 2, 2, 2, 2, 2, 2, 2, 2, 2, 2, 2, 2, 2, 2, 2, 2, 2, 2, 2, 2, 2, 2, 2, 2, 2, 2, 2, 2, 2, 2, 2, 2, 2, 2, 2, 2, 2, 2, 2, 2, 2, 2, 2, 2, 2, 2, 2, 2, 2, 2, 2, 2, 2, 2, 2, 2, 2, 2, 2, 2, 2, 2, 2, 2, 2, 2, 2, 2, 2, 2, 2, 2, 2, 2, 2, 2, 2, 2, 2, 2, 2, 2, 2, 2, 2, 2, 2, 2, 2, 2, 2, 2, 2, 2, 2, 2, 2, 2, 2, 2, 2, 2, 2, 2, 2, 2, 2, 2, 2, 2, 2, 2, 2, 2, 2, 2, 2, 2, 2, 2, 2, 2, 2, 2, 2, 2, 2, 2, 2, 2, 2, 2, 2, 2, 2, 2, 2, 2, 2, 2, 2, 2, 2, 2, 2, 2, 2, 2, 2, 2, 2, 2, 2, 2, 2, 2, 2, 2, 2, 2, 2, 2, 2, 2, 2, 2, 2, 2, 2, 2, 2, 2, 2, 2, 2, 2, 2, 2, 2, 2, 2, 2, 2, 2, 2, 2, 2, 2, 2, 2, 2, 2, 2, 2, 2, 2, 2, 2, 2, 2, 2, 2, 2, 2, 2, 2, 2, 2, 2, 2, 2, 2, 2, 2, 2, 2, 2, 2, 2, 2, 2, 2, 2, 2, 2, 2, 2, 2, 2, 2, 2, 2, 2, 2, 2, 2, 2, 2, 2, 2, 2, 2, 2, 2, 2, 2, 2, 2, 2, 2, 2, 2, 2, 2, 2, 2, 2, 2, 2, 2, 2, 2, 2, 2, 2, 2, 2, 2, 2, 2, 2, 2, 2, 2, 2, 2, 2, 2, 2, 2, 2, 2, 2, 2, 2, 2, 2, 2, 2, 2, 2, 2, 2, 2, 2, 0, 0, 0, 0, 0, 0, 0, 0, 0, 0, 0, 0, 0, 0, 0, 0, 0, 0, 0, 0, 0, 0, 0, 0, 0, 0, 0, 0, 0, 0, 0, 0, 0, 0, 0, 0, 0, 0, 0, 0, 0, 0, 0, 0, 0, 0, 0, 0, 0, 0, 0, 0, 0, 0, 0, 0, 0, 0, 0, 0, 0, 0, 0, 0, 0, 0, 0, 0, 0, 0, 0, 0, 0, 0, 0, 0, 0, 0, 0, 0, 0, 0, 0, 0, 0, 0, 0, 0, 0, 0, 0, 0, 0, 0, 0, 0, 0, 0, 0, 0, 0, 0, 0, 0, 0, 0, 0, 0, 0, 0, 0, 0, 0, 0, 0, 0, 0, 0, 0, 0, 0, 0, 0, 0, 0, 0, 0, 0, 0, 0, 0, 0, 0, 0, 0, 0, 0, 0, 0, 0, 0, 0, 0, 0, 0, 0, 0, 0, 0, 0, 0, 0, 0, 0, 0, 0, 0, 0, 0, 0, 0, 0, 0, 0, 0, 0, 0, 0, 0, 0, 0, 0, 0, 0, 0, 0, 0, 0, 0, 0, 0, 0, 0, 0, 0, 0, 0, 0, 0, 0, 0, 0, 0, 0, 0, 0, 0, 0, 0, 0, 0, 0, 0, 0, 0, 0, 0, 0, 0, 0, 0, 0, 0, 0, 0, 0, 0, 0, 0, 0, 0, 0, 0, 0, 0, 0, 0, 0, 0, 0, 0, 0, 0, 0, 0, 0, 0, 0, 0, 0, 0, 0, 0, 0, 0, 0, 0, 0, 0, 0, 0, 0, 0, 0, 0, 0, 0, 0, 0, 0, 0, 0, 0, 0, 0, 0, 0, 0, 0, 0, 0, 0, 0, 0, 0, 0, 0, 0, 0, 0, 0, 0, 0, 0, 0, 0, 0, 0, 0, 0, 0, 0, 0, 0, 0, 0, 0, 0, 0, 0, 0, 0, 0, 0, 0, 0, 0, 0, 0, 0, 0, 0, 0, 0, 0, 0, 0, 0, 0, 0, 0, 0, 0, 0, 0, 0, 0, 0, 0, 0, 0, 0, 0, 0, 0, 0, 0, 0, 0, 0, 0, 0, 0, 0, 0, 0, 0, 0, 0, 0, 0, 0, 0, 0, 0, 0, 0, 0, 0, 0, 0, 0, 0, 0, 0, 0, 0, 0, 0, 0, 0, 0, 0, 0, 0, 0, 0, 0, 0, 0, 0, 0, 0, 0, 0, 0, 0, 0, 0, 0, 0, 0, 0, 0, 0, 0, 0, 0, 0, 0, 0, 0, 0, 0, 0, 0, 0, 0, 0, 0, 0]\n"
     ]
    }
   ],
   "source": [
    "InputPath = []\n",
    "label = []\n",
    "source_file_dir = os.path.dirname(os.path.abspath(\"__file__\"))\n",
    "print(source_file_dir)\n",
    "for Class in os.listdir(os.path.join(source_file_dir,\"WasteClasses\")):\n",
    "    print(Class)\n",
    "    for path in os.listdir(os.path.join(source_file_dir,\"WasteClasses\",Class)):\n",
    "        if Class == \"Food Organics\":\n",
    "                label.append(0)\n",
    "        elif Class ==\"Metal\":\n",
    "                label.append(1)\n",
    "        else:\n",
    "                label.append(2)\n",
    "                \n",
    "        InputPath.append(os.path.join(\"WasteClasses\", Class, path))\n",
    "        \n",
    "\n",
    "print(label)\n"
   ]
  },
  {
   "cell_type": "code",
   "execution_count": 4,
   "metadata": {},
   "outputs": [
    {
     "data": {
      "text/html": [
       "<div>\n",
       "<style scoped>\n",
       "    .dataframe tbody tr th:only-of-type {\n",
       "        vertical-align: middle;\n",
       "    }\n",
       "\n",
       "    .dataframe tbody tr th {\n",
       "        vertical-align: top;\n",
       "    }\n",
       "\n",
       "    .dataframe thead th {\n",
       "        text-align: right;\n",
       "    }\n",
       "</style>\n",
       "<table border=\"1\" class=\"dataframe\">\n",
       "  <thead>\n",
       "    <tr style=\"text-align: right;\">\n",
       "      <th></th>\n",
       "      <th>images</th>\n",
       "      <th>label</th>\n",
       "    </tr>\n",
       "  </thead>\n",
       "  <tbody>\n",
       "    <tr>\n",
       "      <th>0</th>\n",
       "      <td>WasteClasses/Plastic/Plastic_418.jpg</td>\n",
       "      <td>2</td>\n",
       "    </tr>\n",
       "    <tr>\n",
       "      <th>1</th>\n",
       "      <td>WasteClasses/Metal/Metal_298.jpg</td>\n",
       "      <td>1</td>\n",
       "    </tr>\n",
       "    <tr>\n",
       "      <th>2</th>\n",
       "      <td>WasteClasses/Metal/Metal_402.jpg</td>\n",
       "      <td>1</td>\n",
       "    </tr>\n",
       "    <tr>\n",
       "      <th>3</th>\n",
       "      <td>WasteClasses/Metal/Metal_100.jpg</td>\n",
       "      <td>1</td>\n",
       "    </tr>\n",
       "    <tr>\n",
       "      <th>4</th>\n",
       "      <td>WasteClasses/Plastic/Plastic_304.jpg</td>\n",
       "      <td>2</td>\n",
       "    </tr>\n",
       "  </tbody>\n",
       "</table>\n",
       "</div>"
      ],
      "text/plain": [
       "                                 images  label\n",
       "0  WasteClasses/Plastic/Plastic_418.jpg      2\n",
       "1      WasteClasses/Metal/Metal_298.jpg      1\n",
       "2      WasteClasses/Metal/Metal_402.jpg      1\n",
       "3      WasteClasses/Metal/Metal_100.jpg      1\n",
       "4  WasteClasses/Plastic/Plastic_304.jpg      2"
      ]
     },
     "execution_count": 4,
     "metadata": {},
     "output_type": "execute_result"
    }
   ],
   "source": [
    "df = pd.DataFrame()\n",
    "df['images'] = InputPath\n",
    "df['label'] = label\n",
    "df = df.sample(frac=1).reset_index(drop=True)\n",
    "df.head()"
   ]
  },
  {
   "cell_type": "code",
   "execution_count": 5,
   "metadata": {},
   "outputs": [
    {
     "data": {
      "text/plain": [
       "<Axes: xlabel='label', ylabel='count'>"
      ]
     },
     "execution_count": 5,
     "metadata": {},
     "output_type": "execute_result"
    },
    {
     "data": {
      "image/png": "[encoded data removed]",
      "text/plain": [
       "<Figure size 640x480 with 1 Axes>"
      ]
     },
     "metadata": {},
     "output_type": "display_data"
    }
   ],
   "source": [
    "import seaborn as sns\n",
    "sns.countplot(data=df,x='label')"
   ]
  },
  {
   "cell_type": "code",
   "execution_count": 6,
   "metadata": {},
   "outputs": [
    {
     "data": {
      "text/html": [
       "<div>\n",
       "<style scoped>\n",
       "    .dataframe tbody tr th:only-of-type {\n",
       "        vertical-align: middle;\n",
       "    }\n",
       "\n",
       "    .dataframe tbody tr th {\n",
       "        vertical-align: top;\n",
       "    }\n",
       "\n",
       "    .dataframe thead th {\n",
       "        text-align: right;\n",
       "    }\n",
       "</style>\n",
       "<table border=\"1\" class=\"dataframe\">\n",
       "  <thead>\n",
       "    <tr style=\"text-align: right;\">\n",
       "      <th></th>\n",
       "      <th>images</th>\n",
       "      <th>label</th>\n",
       "    </tr>\n",
       "  </thead>\n",
       "  <tbody>\n",
       "    <tr>\n",
       "      <th>0</th>\n",
       "      <td>WasteClasses/Plastic/Plastic_418.jpg</td>\n",
       "      <td>2</td>\n",
       "    </tr>\n",
       "    <tr>\n",
       "      <th>1</th>\n",
       "      <td>WasteClasses/Metal/Metal_298.jpg</td>\n",
       "      <td>1</td>\n",
       "    </tr>\n",
       "    <tr>\n",
       "      <th>2</th>\n",
       "      <td>WasteClasses/Metal/Metal_402.jpg</td>\n",
       "      <td>1</td>\n",
       "    </tr>\n",
       "    <tr>\n",
       "      <th>3</th>\n",
       "      <td>WasteClasses/Metal/Metal_100.jpg</td>\n",
       "      <td>1</td>\n",
       "    </tr>\n",
       "    <tr>\n",
       "      <th>4</th>\n",
       "      <td>WasteClasses/Plastic/Plastic_304.jpg</td>\n",
       "      <td>2</td>\n",
       "    </tr>\n",
       "    <tr>\n",
       "      <th>...</th>\n",
       "      <td>...</td>\n",
       "      <td>...</td>\n",
       "    </tr>\n",
       "    <tr>\n",
       "      <th>2126</th>\n",
       "      <td>WasteClasses/Metal/Metal_203.jpg</td>\n",
       "      <td>1</td>\n",
       "    </tr>\n",
       "    <tr>\n",
       "      <th>2127</th>\n",
       "      <td>WasteClasses/Food Organics/Food Organics_353.jpg</td>\n",
       "      <td>0</td>\n",
       "    </tr>\n",
       "    <tr>\n",
       "      <th>2128</th>\n",
       "      <td>WasteClasses/Metal/Metal_198.jpg</td>\n",
       "      <td>1</td>\n",
       "    </tr>\n",
       "    <tr>\n",
       "      <th>2129</th>\n",
       "      <td>WasteClasses/Plastic/Plastic_612.jpg</td>\n",
       "      <td>2</td>\n",
       "    </tr>\n",
       "    <tr>\n",
       "      <th>2130</th>\n",
       "      <td>WasteClasses/Food Organics/Food Organics_136.jpg</td>\n",
       "      <td>0</td>\n",
       "    </tr>\n",
       "  </tbody>\n",
       "</table>\n",
       "<p>2131 rows × 2 columns</p>\n",
       "</div>"
      ],
      "text/plain": [
       "                                                images  label\n",
       "0                 WasteClasses/Plastic/Plastic_418.jpg      2\n",
       "1                     WasteClasses/Metal/Metal_298.jpg      1\n",
       "2                     WasteClasses/Metal/Metal_402.jpg      1\n",
       "3                     WasteClasses/Metal/Metal_100.jpg      1\n",
       "4                 WasteClasses/Plastic/Plastic_304.jpg      2\n",
       "...                                                ...    ...\n",
       "2126                  WasteClasses/Metal/Metal_203.jpg      1\n",
       "2127  WasteClasses/Food Organics/Food Organics_353.jpg      0\n",
       "2128                  WasteClasses/Metal/Metal_198.jpg      1\n",
       "2129              WasteClasses/Plastic/Plastic_612.jpg      2\n",
       "2130  WasteClasses/Food Organics/Food Organics_136.jpg      0\n",
       "\n",
       "[2131 rows x 2 columns]"
      ]
     },
     "execution_count": 6,
     "metadata": {},
     "output_type": "execute_result"
    }
   ],
   "source": [
    "df"
   ]
  },
  {
   "cell_type": "code",
   "execution_count": 7,
   "metadata": {},
   "outputs": [],
   "source": [
    "df['label'] = df['label'].astype('str')"
   ]
  },
  {
   "cell_type": "code",
   "execution_count": 8,
   "metadata": {},
   "outputs": [],
   "source": [
    "train, test = train_test_split(df, test_size=0.2, random_state=1)"
   ]
  },
  {
   "cell_type": "code",
   "execution_count": 9,
   "metadata": {},
   "outputs": [
    {
     "name": "stdout",
     "output_type": "stream",
     "text": [
      "Found 1704 validated image filenames belonging to 3 classes.\n",
      "Found 427 validated image filenames belonging to 3 classes.\n"
     ]
    }
   ],
   "source": [
    "TrainGenerator = ImageDataGenerator(\n",
    "    rescale = 1./255,  # normalization of images\n",
    "    rotation_range = 40, # augmention of images to avoid overfitting\n",
    "    shear_range = 0.2,\n",
    "    zoom_range = 0.2,\n",
    "    horizontal_flip = True,\n",
    "    vertical_flip = True,\n",
    ")\n",
    "ValGenerator = ImageDataGenerator(rescale = 1./255)\n",
    "\n",
    "TrainIterator = TrainGenerator.flow_from_dataframe(\n",
    "    train, \n",
    "    x_col='images', \n",
    "    y_col='label', \n",
    "    target_size=(224,224), \n",
    "    batch_size=64, \n",
    "    class_mode='categorical',\n",
    "    shuffle=True\n",
    ")\n",
    "ValIterator = ValGenerator.flow_from_dataframe(\n",
    "    test, \n",
    "    x_col='images', \n",
    "    y_col='label', \n",
    "    target_size=(224,224), \n",
    "    batch_size=64, \n",
    "    class_mode='categorical',\n",
    "    shuffle=True\n",
    ")"
   ]
  },
  {
   "cell_type": "code",
   "execution_count": 10,
   "metadata": {},
   "outputs": [
    {
     "name": "stderr",
     "output_type": "stream",
     "text": [
      "2024-05-14 23:56:19.162985: I external/local_xla/xla/stream_executor/cuda/cuda_executor.cc:887] could not open file to read NUMA node: /sys/bus/pci/devices/0000:01:00.0/numa_node\n",
      "Your kernel may have been built without NUMA support.\n",
      "2024-05-14 23:56:21.730178: I external/local_xla/xla/stream_executor/cuda/cuda_executor.cc:887] could not open file to read NUMA node: /sys/bus/pci/devices/0000:01:00.0/numa_node\n",
      "Your kernel may have been built without NUMA support.\n",
      "2024-05-14 23:56:21.730282: I external/local_xla/xla/stream_executor/cuda/cuda_executor.cc:887] could not open file to read NUMA node: /sys/bus/pci/devices/0000:01:00.0/numa_node\n",
      "Your kernel may have been built without NUMA support.\n",
      "2024-05-14 23:56:21.736715: I external/local_xla/xla/stream_executor/cuda/cuda_executor.cc:887] could not open file to read NUMA node: /sys/bus/pci/devices/0000:01:00.0/numa_node\n",
      "Your kernel may have been built without NUMA support.\n",
      "2024-05-14 23:56:21.736802: I external/local_xla/xla/stream_executor/cuda/cuda_executor.cc:887] could not open file to read NUMA node: /sys/bus/pci/devices/0000:01:00.0/numa_node\n",
      "Your kernel may have been built without NUMA support.\n",
      "2024-05-14 23:56:21.736848: I external/local_xla/xla/stream_executor/cuda/cuda_executor.cc:887] could not open file to read NUMA node: /sys/bus/pci/devices/0000:01:00.0/numa_node\n",
      "Your kernel may have been built without NUMA support.\n",
      "2024-05-14 23:56:22.382006: I external/local_xla/xla/stream_executor/cuda/cuda_executor.cc:887] could not open file to read NUMA node: /sys/bus/pci/devices/0000:01:00.0/numa_node\n",
      "Your kernel may have been built without NUMA support.\n",
      "2024-05-14 23:56:22.382128: I external/local_xla/xla/stream_executor/cuda/cuda_executor.cc:887] could not open file to read NUMA node: /sys/bus/pci/devices/0000:01:00.0/numa_node\n",
      "Your kernel may have been built without NUMA support.\n",
      "2024-05-14 23:56:22.382148: I tensorflow/core/common_runtime/gpu/gpu_device.cc:2022] Could not identify NUMA node of platform GPU id 0, defaulting to 0.  Your kernel may not have been built with NUMA support.\n",
      "2024-05-14 23:56:22.382188: I tensorflow/core/common_runtime/gpu/gpu_process_state.cc:236] Using CUDA malloc Async allocator for GPU: 0\n",
      "2024-05-14 23:56:22.385188: I external/local_xla/xla/stream_executor/cuda/cuda_executor.cc:887] could not open file to read NUMA node: /sys/bus/pci/devices/0000:01:00.0/numa_node\n",
      "Your kernel may have been built without NUMA support.\n",
      "2024-05-14 23:56:22.385816: I tensorflow/core/common_runtime/gpu/gpu_device.cc:1929] Created device /job:localhost/replica:0/task:0/device:GPU:0 with 1753 MB memory:  -> device: 0, name: NVIDIA GeForce RTX 3050 Ti Laptop GPU, pci bus id: 0000:01:00.0, compute capability: 8.6\n"
     ]
    }
   ],
   "source": [
    "model = Sequential()\n",
    "model.add(Conv2D(32,(3,3),input_shape = (224,224,3)))\n",
    "model.add(Activation(\"relu\"))\n",
    "model.add(MaxPooling2D())\n",
    "\n",
    "model.add(Conv2D(64,(3,3)))  \n",
    "model.add(Activation(\"relu\"))\n",
    "model.add(MaxPooling2D())\n",
    "\n",
    "model.add(Conv2D(128,(3,3)))\n",
    "model.add(Activation(\"relu\"))\n",
    "model.add(MaxPooling2D())\n",
    "\n",
    "model.add(Flatten())\n",
    "model.add(Dense(512))\n",
    "model.add(Activation(\"relu\"))\n",
    "model.add(Dropout(0.5))\n",
    "model.add(Dense(256))\n",
    "model.add(Activation(\"relu\"))\n",
    "model.add(Dropout(0.3))\n",
    "model.add(Dense(3)) # output\n",
    "model.add(Activation(\"softmax\"))\n"
   ]
  },
  {
   "cell_type": "code",
   "execution_count": 11,
   "metadata": {},
   "outputs": [
    {
     "name": "stdout",
     "output_type": "stream",
     "text": [
      "Model: \"sequential\"\n",
      "_________________________________________________________________\n",
      " Layer (type)                Output Shape              Param #   \n",
      "=================================================================\n",
      " conv2d (Conv2D)             (None, 222, 222, 32)      896       \n",
      "                                                                 \n",
      " activation (Activation)     (None, 222, 222, 32)      0         \n",
      "                                                                 \n",
      " max_pooling2d (MaxPooling2  (None, 111, 111, 32)      0         \n",
      " D)                                                              \n",
      "                                                                 \n",
      " conv2d_1 (Conv2D)           (None, 109, 109, 64)      18496     \n",
      "                                                                 \n",
      " activation_1 (Activation)   (None, 109, 109, 64)      0         \n",
      "                                                                 \n",
      " max_pooling2d_1 (MaxPoolin  (None, 54, 54, 64)        0         \n",
      " g2D)                                                            \n",
      "                                                                 \n",
      " conv2d_2 (Conv2D)           (None, 52, 52, 128)       73856     \n",
      "                                                                 \n",
      " activation_2 (Activation)   (None, 52, 52, 128)       0         \n",
      "                                                                 \n",
      " max_pooling2d_2 (MaxPoolin  (None, 26, 26, 128)       0         \n",
      " g2D)                                                            \n",
      "                                                                 \n",
      " flatten (Flatten)           (None, 86528)             0         \n",
      "                                                                 \n",
      " dense (Dense)               (None, 512)               44302848  \n",
      "                                                                 \n",
      " activation_3 (Activation)   (None, 512)               0         \n",
      "                                                                 \n",
      " dropout (Dropout)           (None, 512)               0         \n",
      "                                                                 \n",
      " dense_1 (Dense)             (None, 256)               131328    \n",
      "                                                                 \n",
      " activation_4 (Activation)   (None, 256)               0         \n",
      "                                                                 \n",
      " dropout_1 (Dropout)         (None, 256)               0         \n",
      "                                                                 \n",
      " dense_2 (Dense)             (None, 3)                 771       \n",
      "                                                                 \n",
      " activation_5 (Activation)   (None, 3)                 0         \n",
      "                                                                 \n",
      "=================================================================\n",
      "Total params: 44528195 (169.86 MB)\n",
      "Trainable params: 44528195 (169.86 MB)\n",
      "Non-trainable params: 0 (0.00 Byte)\n",
      "_________________________________________________________________\n"
     ]
    }
   ],
   "source": [
    "model.compile(optimizer=SGD(learning_rate=0.01, momentum=0.9, nesterov=True)\n",
    "              , loss='categorical_crossentropy', metrics=['accuracy'])\n",
    "model.summary()"
   ]
  },
  {
   "cell_type": "code",
   "execution_count": 12,
   "metadata": {},
   "outputs": [
    {
     "name": "stdout",
     "output_type": "stream",
     "text": [
      "Epoch 1/100\n"
     ]
    },
    {
     "name": "stderr",
     "output_type": "stream",
     "text": [
      "2024-05-14 23:56:55.050225: I external/local_xla/xla/stream_executor/cuda/cuda_dnn.cc:454] Loaded cuDNN version 8904\n",
      "2024-05-14 23:57:33.357928: I external/local_tsl/tsl/platform/default/subprocess.cc:304] Start cannot spawn child process: No such file or directory\n",
      "2024-05-14 23:58:34.310880: I external/local_tsl/tsl/platform/default/subprocess.cc:304] Start cannot spawn child process: No such file or directory\n",
      "2024-05-14 23:58:40.630501: I external/local_xla/xla/service/service.cc:168] XLA service 0x7efa31608bc0 initialized for platform CUDA (this does not guarantee that XLA will be used). Devices:\n",
      "2024-05-14 23:58:40.630573: I external/local_xla/xla/service/service.cc:176]   StreamExecutor device (0): NVIDIA GeForce RTX 3050 Ti Laptop GPU, Compute Capability 8.6\n",
      "WARNING: All log messages before absl::InitializeLog() is called are written to STDERR\n",
      "I0000 00:00:1715720322.686476   34641 device_compiler.h:186] Compiled cluster using XLA!  This line is logged at most once for the lifetime of the process.\n"
     ]
    },
    {
     "name": "stdout",
     "output_type": "stream",
     "text": [
      "27/27 [==============================] - 182s 1s/step - loss: 1.2234 - accuracy: 0.3803 - val_loss: 1.0465 - val_accuracy: 0.3770\n",
      "Epoch 2/100\n",
      "27/27 [==============================] - 51s 2s/step - loss: 1.1708 - accuracy: 0.4331 - val_loss: 0.8984 - val_accuracy: 0.5363\n",
      "Epoch 3/100\n",
      "27/27 [==============================] - 55s 2s/step - loss: 1.0441 - accuracy: 0.4695 - val_loss: 0.7864 - val_accuracy: 0.5995\n",
      "Epoch 4/100\n",
      "27/27 [==============================] - 77s 3s/step - loss: 1.0188 - accuracy: 0.4695 - val_loss: 0.7838 - val_accuracy: 0.6019\n",
      "Epoch 5/100\n",
      "27/27 [==============================] - 45s 2s/step - loss: 0.9945 - accuracy: 0.4847 - val_loss: 1.0441 - val_accuracy: 0.4379\n",
      "Epoch 6/100\n",
      "27/27 [==============================] - 37s 1s/step - loss: 1.0410 - accuracy: 0.4660 - val_loss: 1.0398 - val_accuracy: 0.3864\n",
      "Epoch 7/100\n",
      "27/27 [==============================] - 39s 1s/step - loss: 0.9930 - accuracy: 0.4695 - val_loss: 0.8190 - val_accuracy: 0.5878\n",
      "Epoch 8/100\n",
      "27/27 [==============================] - 38s 1s/step - loss: 0.8614 - accuracy: 0.5716 - val_loss: 0.7565 - val_accuracy: 0.6323\n",
      "Epoch 9/100\n",
      "27/27 [==============================] - 38s 1s/step - loss: 0.7753 - accuracy: 0.6092 - val_loss: 0.7201 - val_accuracy: 0.6393\n",
      "Epoch 10/100\n",
      "27/27 [==============================] - 35s 1s/step - loss: 0.7670 - accuracy: 0.6062 - val_loss: 0.7210 - val_accuracy: 0.6417\n",
      "Epoch 11/100\n",
      "27/27 [==============================] - 36s 1s/step - loss: 0.7437 - accuracy: 0.6273 - val_loss: 0.7387 - val_accuracy: 0.6276\n",
      "Epoch 12/100\n",
      "27/27 [==============================] - 35s 1s/step - loss: 0.7395 - accuracy: 0.6021 - val_loss: 0.6807 - val_accuracy: 0.6557\n",
      "Epoch 13/100\n",
      "27/27 [==============================] - 36s 1s/step - loss: 0.7438 - accuracy: 0.6062 - val_loss: 0.6596 - val_accuracy: 0.6698\n",
      "Epoch 14/100\n",
      "27/27 [==============================] - 35s 1s/step - loss: 0.6933 - accuracy: 0.6344 - val_loss: 0.6526 - val_accuracy: 0.6909\n",
      "Epoch 15/100\n",
      "27/27 [==============================] - 34s 1s/step - loss: 0.6707 - accuracy: 0.6673 - val_loss: 0.7451 - val_accuracy: 0.6464\n",
      "Epoch 16/100\n",
      "27/27 [==============================] - 33s 1s/step - loss: 0.6381 - accuracy: 0.6890 - val_loss: 0.6412 - val_accuracy: 0.7119\n",
      "Epoch 17/100\n",
      "27/27 [==============================] - 34s 1s/step - loss: 0.6518 - accuracy: 0.7048 - val_loss: 0.6465 - val_accuracy: 0.6979\n",
      "Epoch 18/100\n",
      "27/27 [==============================] - 37s 1s/step - loss: 0.6506 - accuracy: 0.6925 - val_loss: 0.6743 - val_accuracy: 0.6768\n",
      "Epoch 19/100\n",
      "27/27 [==============================] - 38s 1s/step - loss: 0.6481 - accuracy: 0.7036 - val_loss: 0.6167 - val_accuracy: 0.7354\n",
      "Epoch 20/100\n",
      "27/27 [==============================] - 37s 1s/step - loss: 0.6471 - accuracy: 0.7142 - val_loss: 0.6014 - val_accuracy: 0.7119\n",
      "Epoch 21/100\n",
      "27/27 [==============================] - 38s 1s/step - loss: 0.6148 - accuracy: 0.7189 - val_loss: 0.6194 - val_accuracy: 0.7424\n",
      "Epoch 22/100\n",
      "27/27 [==============================] - 37s 1s/step - loss: 0.5928 - accuracy: 0.7312 - val_loss: 0.6312 - val_accuracy: 0.7283\n",
      "Epoch 23/100\n",
      "27/27 [==============================] - 35s 1s/step - loss: 0.5830 - accuracy: 0.7459 - val_loss: 0.5771 - val_accuracy: 0.7424\n",
      "Epoch 24/100\n",
      "27/27 [==============================] - 40s 1s/step - loss: 0.5689 - accuracy: 0.7482 - val_loss: 0.5744 - val_accuracy: 0.7541\n",
      "Epoch 25/100\n",
      "27/27 [==============================] - 42s 2s/step - loss: 0.5638 - accuracy: 0.7430 - val_loss: 0.6058 - val_accuracy: 0.7237\n",
      "Epoch 26/100\n",
      "27/27 [==============================] - 39s 1s/step - loss: 0.5611 - accuracy: 0.7465 - val_loss: 0.6474 - val_accuracy: 0.7026\n",
      "Epoch 27/100\n",
      "27/27 [==============================] - 40s 1s/step - loss: 0.5799 - accuracy: 0.7342 - val_loss: 0.5573 - val_accuracy: 0.7447\n",
      "Epoch 28/100\n",
      "27/27 [==============================] - 36s 1s/step - loss: 0.5785 - accuracy: 0.7353 - val_loss: 0.5717 - val_accuracy: 0.7518\n",
      "Epoch 29/100\n",
      "27/27 [==============================] - 34s 1s/step - loss: 0.5255 - accuracy: 0.7594 - val_loss: 0.5501 - val_accuracy: 0.7681\n",
      "Epoch 30/100\n",
      "27/27 [==============================] - 38s 1s/step - loss: 0.5294 - accuracy: 0.7617 - val_loss: 0.6276 - val_accuracy: 0.7119\n",
      "Epoch 31/100\n",
      "27/27 [==============================] - 37s 1s/step - loss: 0.5178 - accuracy: 0.7506 - val_loss: 0.5700 - val_accuracy: 0.7424\n",
      "Epoch 32/100\n",
      "27/27 [==============================] - 34s 1s/step - loss: 0.4926 - accuracy: 0.7653 - val_loss: 0.5708 - val_accuracy: 0.7471\n",
      "Epoch 33/100\n",
      "27/27 [==============================] - 37s 1s/step - loss: 0.5013 - accuracy: 0.7793 - val_loss: 0.5014 - val_accuracy: 0.7447\n",
      "Epoch 34/100\n",
      "27/27 [==============================] - 33s 1s/step - loss: 0.5152 - accuracy: 0.7752 - val_loss: 0.5247 - val_accuracy: 0.7518\n",
      "Epoch 35/100\n",
      "27/27 [==============================] - 34s 1s/step - loss: 0.4902 - accuracy: 0.7694 - val_loss: 0.5168 - val_accuracy: 0.7494\n",
      "Epoch 36/100\n",
      "27/27 [==============================] - 37s 1s/step - loss: 0.4832 - accuracy: 0.7729 - val_loss: 0.4804 - val_accuracy: 0.7705\n",
      "Epoch 37/100\n",
      "27/27 [==============================] - 38s 1s/step - loss: 0.4621 - accuracy: 0.7852 - val_loss: 0.4635 - val_accuracy: 0.7775\n",
      "Epoch 38/100\n",
      "27/27 [==============================] - 35s 1s/step - loss: 0.4376 - accuracy: 0.7899 - val_loss: 0.4532 - val_accuracy: 0.7916\n",
      "Epoch 39/100\n",
      "27/27 [==============================] - 38s 1s/step - loss: 0.4553 - accuracy: 0.7911 - val_loss: 0.4568 - val_accuracy: 0.7822\n",
      "Epoch 40/100\n",
      "27/27 [==============================] - 43s 2s/step - loss: 0.4509 - accuracy: 0.7887 - val_loss: 0.4388 - val_accuracy: 0.7986\n",
      "Epoch 41/100\n",
      "27/27 [==============================] - 39s 1s/step - loss: 0.4593 - accuracy: 0.7964 - val_loss: 0.4209 - val_accuracy: 0.8220\n",
      "Epoch 42/100\n",
      "27/27 [==============================] - 35s 1s/step - loss: 0.4318 - accuracy: 0.7987 - val_loss: 0.4333 - val_accuracy: 0.7986\n",
      "Epoch 43/100\n",
      "27/27 [==============================] - 46s 2s/step - loss: 0.4392 - accuracy: 0.7975 - val_loss: 0.5130 - val_accuracy: 0.7681\n",
      "Epoch 44/100\n",
      "27/27 [==============================] - 40s 1s/step - loss: 0.4248 - accuracy: 0.8046 - val_loss: 0.4325 - val_accuracy: 0.7986\n",
      "Epoch 45/100\n",
      "27/27 [==============================] - 39s 1s/step - loss: 0.4864 - accuracy: 0.7764 - val_loss: 0.5439 - val_accuracy: 0.7494\n",
      "Epoch 46/100\n",
      "27/27 [==============================] - 37s 1s/step - loss: 0.4354 - accuracy: 0.8022 - val_loss: 0.4486 - val_accuracy: 0.7916\n",
      "Epoch 47/100\n",
      "27/27 [==============================] - 34s 1s/step - loss: 0.4074 - accuracy: 0.8116 - val_loss: 0.4753 - val_accuracy: 0.7728\n",
      "Epoch 48/100\n",
      "27/27 [==============================] - 38s 1s/step - loss: 0.4127 - accuracy: 0.8110 - val_loss: 0.4448 - val_accuracy: 0.8173\n",
      "Epoch 49/100\n",
      "27/27 [==============================] - 38s 1s/step - loss: 0.4040 - accuracy: 0.8151 - val_loss: 0.5042 - val_accuracy: 0.7799\n",
      "Epoch 50/100\n",
      "27/27 [==============================] - 41s 2s/step - loss: 0.3904 - accuracy: 0.8204 - val_loss: 0.4219 - val_accuracy: 0.8244\n",
      "Epoch 51/100\n",
      "27/27 [==============================] - 36s 1s/step - loss: 0.3898 - accuracy: 0.8204 - val_loss: 0.4281 - val_accuracy: 0.8220\n",
      "Epoch 52/100\n",
      "27/27 [==============================] - 34s 1s/step - loss: 0.3721 - accuracy: 0.8234 - val_loss: 0.4068 - val_accuracy: 0.8407\n",
      "Epoch 53/100\n",
      "27/27 [==============================] - 34s 1s/step - loss: 0.3743 - accuracy: 0.8257 - val_loss: 0.4269 - val_accuracy: 0.8314\n",
      "Epoch 54/100\n",
      "27/27 [==============================] - 34s 1s/step - loss: 0.4041 - accuracy: 0.8181 - val_loss: 0.3900 - val_accuracy: 0.8267\n",
      "Epoch 55/100\n",
      "27/27 [==============================] - 34s 1s/step - loss: 0.3694 - accuracy: 0.8263 - val_loss: 0.4712 - val_accuracy: 0.7799\n",
      "Epoch 56/100\n",
      "27/27 [==============================] - 34s 1s/step - loss: 0.3770 - accuracy: 0.8210 - val_loss: 0.3946 - val_accuracy: 0.8290\n",
      "Epoch 57/100\n",
      "27/27 [==============================] - 34s 1s/step - loss: 0.3575 - accuracy: 0.8269 - val_loss: 0.4192 - val_accuracy: 0.8267\n",
      "Epoch 58/100\n",
      "27/27 [==============================] - 34s 1s/step - loss: 0.3907 - accuracy: 0.8216 - val_loss: 0.4087 - val_accuracy: 0.8267\n",
      "Epoch 59/100\n",
      "27/27 [==============================] - 34s 1s/step - loss: 0.3441 - accuracy: 0.8486 - val_loss: 0.4359 - val_accuracy: 0.8173\n",
      "Epoch 60/100\n",
      "27/27 [==============================] - 34s 1s/step - loss: 0.3511 - accuracy: 0.8404 - val_loss: 0.4066 - val_accuracy: 0.8337\n",
      "Epoch 61/100\n",
      "27/27 [==============================] - 33s 1s/step - loss: 0.3576 - accuracy: 0.8357 - val_loss: 0.4581 - val_accuracy: 0.8033\n",
      "Epoch 62/100\n",
      "27/27 [==============================] - 34s 1s/step - loss: 0.3185 - accuracy: 0.8451 - val_loss: 0.3716 - val_accuracy: 0.8478\n",
      "Epoch 63/100\n",
      "27/27 [==============================] - 34s 1s/step - loss: 0.3439 - accuracy: 0.8433 - val_loss: 0.3737 - val_accuracy: 0.8431\n",
      "Epoch 64/100\n",
      "27/27 [==============================] - 34s 1s/step - loss: 0.3221 - accuracy: 0.8439 - val_loss: 0.3750 - val_accuracy: 0.8454\n",
      "Epoch 65/100\n",
      "27/27 [==============================] - 35s 1s/step - loss: 0.3239 - accuracy: 0.8609 - val_loss: 0.4169 - val_accuracy: 0.8431\n",
      "Epoch 66/100\n",
      "27/27 [==============================] - 35s 1s/step - loss: 0.3669 - accuracy: 0.8339 - val_loss: 0.3655 - val_accuracy: 0.8478\n",
      "Epoch 67/100\n",
      "27/27 [==============================] - 35s 1s/step - loss: 0.3281 - accuracy: 0.8498 - val_loss: 0.3633 - val_accuracy: 0.8431\n",
      "Epoch 68/100\n",
      "27/27 [==============================] - 35s 1s/step - loss: 0.3075 - accuracy: 0.8550 - val_loss: 0.3701 - val_accuracy: 0.8501\n",
      "Epoch 69/100\n",
      "27/27 [==============================] - 35s 1s/step - loss: 0.3217 - accuracy: 0.8597 - val_loss: 0.3401 - val_accuracy: 0.8478\n",
      "Epoch 70/100\n",
      "27/27 [==============================] - 35s 1s/step - loss: 0.3311 - accuracy: 0.8498 - val_loss: 0.3515 - val_accuracy: 0.8689\n",
      "Epoch 71/100\n",
      "27/27 [==============================] - 35s 1s/step - loss: 0.3237 - accuracy: 0.8597 - val_loss: 0.3408 - val_accuracy: 0.8501\n",
      "Epoch 72/100\n",
      "27/27 [==============================] - 35s 1s/step - loss: 0.3183 - accuracy: 0.8410 - val_loss: 0.3682 - val_accuracy: 0.8407\n",
      "Epoch 73/100\n",
      "27/27 [==============================] - 35s 1s/step - loss: 0.2921 - accuracy: 0.8627 - val_loss: 0.4822 - val_accuracy: 0.8033\n",
      "Epoch 74/100\n",
      "27/27 [==============================] - 37s 1s/step - loss: 0.2980 - accuracy: 0.8568 - val_loss: 0.4233 - val_accuracy: 0.8126\n",
      "Epoch 75/100\n",
      "27/27 [==============================] - 35s 1s/step - loss: 0.3019 - accuracy: 0.8574 - val_loss: 0.3340 - val_accuracy: 0.8712\n",
      "Epoch 76/100\n",
      "27/27 [==============================] - 39s 1s/step - loss: 0.2866 - accuracy: 0.8715 - val_loss: 0.3163 - val_accuracy: 0.8782\n",
      "Epoch 77/100\n",
      "27/27 [==============================] - 35s 1s/step - loss: 0.3050 - accuracy: 0.8627 - val_loss: 0.3563 - val_accuracy: 0.8407\n",
      "Epoch 78/100\n",
      "27/27 [==============================] - 34s 1s/step - loss: 0.2764 - accuracy: 0.8691 - val_loss: 0.3950 - val_accuracy: 0.8454\n",
      "Epoch 79/100\n",
      "27/27 [==============================] - 34s 1s/step - loss: 0.3344 - accuracy: 0.8556 - val_loss: 0.3680 - val_accuracy: 0.8571\n",
      "Epoch 80/100\n",
      "27/27 [==============================] - 34s 1s/step - loss: 0.2741 - accuracy: 0.8691 - val_loss: 0.3231 - val_accuracy: 0.8618\n",
      "Epoch 81/100\n",
      "27/27 [==============================] - 35s 1s/step - loss: 0.2723 - accuracy: 0.8785 - val_loss: 0.3703 - val_accuracy: 0.8454\n",
      "Epoch 82/100\n",
      "27/27 [==============================] - 35s 1s/step - loss: 0.2744 - accuracy: 0.8803 - val_loss: 0.5067 - val_accuracy: 0.7963\n",
      "Epoch 83/100\n",
      "27/27 [==============================] - 35s 1s/step - loss: 0.2837 - accuracy: 0.8668 - val_loss: 0.3414 - val_accuracy: 0.8689\n",
      "Epoch 84/100\n",
      "27/27 [==============================] - 35s 1s/step - loss: 0.2864 - accuracy: 0.8644 - val_loss: 0.3804 - val_accuracy: 0.8407\n",
      "Epoch 85/100\n",
      "27/27 [==============================] - 35s 1s/step - loss: 0.2783 - accuracy: 0.8668 - val_loss: 0.3177 - val_accuracy: 0.8665\n",
      "Epoch 86/100\n",
      "27/27 [==============================] - 35s 1s/step - loss: 0.2550 - accuracy: 0.8856 - val_loss: 0.5501 - val_accuracy: 0.8150\n",
      "Epoch 87/100\n",
      "27/27 [==============================] - 34s 1s/step - loss: 0.2999 - accuracy: 0.8592 - val_loss: 0.3452 - val_accuracy: 0.8501\n",
      "Epoch 88/100\n",
      "27/27 [==============================] - 35s 1s/step - loss: 0.2669 - accuracy: 0.8768 - val_loss: 0.3378 - val_accuracy: 0.8642\n",
      "Epoch 89/100\n",
      "27/27 [==============================] - 35s 1s/step - loss: 0.2545 - accuracy: 0.8838 - val_loss: 0.2951 - val_accuracy: 0.8829\n",
      "Epoch 90/100\n",
      "27/27 [==============================] - 34s 1s/step - loss: 0.2515 - accuracy: 0.8867 - val_loss: 0.3712 - val_accuracy: 0.8548\n",
      "Epoch 91/100\n",
      "27/27 [==============================] - 34s 1s/step - loss: 0.2558 - accuracy: 0.8844 - val_loss: 0.2954 - val_accuracy: 0.8689\n",
      "Epoch 92/100\n",
      "27/27 [==============================] - 34s 1s/step - loss: 0.2358 - accuracy: 0.8950 - val_loss: 0.3415 - val_accuracy: 0.8735\n",
      "Epoch 93/100\n",
      "27/27 [==============================] - 36s 1s/step - loss: 0.2456 - accuracy: 0.8908 - val_loss: 0.3461 - val_accuracy: 0.8595\n",
      "Epoch 94/100\n",
      "27/27 [==============================] - 34s 1s/step - loss: 0.2860 - accuracy: 0.8738 - val_loss: 0.3983 - val_accuracy: 0.8407\n",
      "Epoch 95/100\n",
      "27/27 [==============================] - 34s 1s/step - loss: 0.2417 - accuracy: 0.8873 - val_loss: 0.3330 - val_accuracy: 0.8642\n",
      "Epoch 96/100\n",
      "27/27 [==============================] - 34s 1s/step - loss: 0.2146 - accuracy: 0.9032 - val_loss: 0.3346 - val_accuracy: 0.8806\n",
      "Epoch 97/100\n",
      "27/27 [==============================] - 34s 1s/step - loss: 0.2462 - accuracy: 0.8926 - val_loss: 0.3871 - val_accuracy: 0.8454\n",
      "Epoch 98/100\n",
      "27/27 [==============================] - 34s 1s/step - loss: 0.2326 - accuracy: 0.8932 - val_loss: 0.3488 - val_accuracy: 0.8478\n",
      "Epoch 99/100\n",
      "27/27 [==============================] - 34s 1s/step - loss: 0.2325 - accuracy: 0.8950 - val_loss: 0.3557 - val_accuracy: 0.8665\n",
      "Epoch 100/100\n",
      "27/27 [==============================] - 35s 1s/step - loss: 0.2218 - accuracy: 0.9038 - val_loss: 0.3594 - val_accuracy: 0.8595\n"
     ]
    }
   ],
   "source": [
    "history = model.fit(TrainIterator, epochs=100\n",
    "                    , validation_data=ValIterator\n",
    "                    ,class_weight={0:1.56816,1:1.4872,2:0.69575})\n"
   ]
  },
  {
   "cell_type": "code",
   "execution_count": 13,
   "metadata": {},
   "outputs": [
    {
     "name": "stdout",
     "output_type": "stream",
     "text": [
      "[0.3802816867828369, 0.43309858441352844, 0.46948355436325073, 0.46948355436325073, 0.48474177718162537, 0.4659624397754669, 0.46948355436325073, 0.5715962648391724, 0.6091549396514893, 0.6062206625938416, 0.6273474097251892, 0.6021126508712769, 0.6062206625938416, 0.6343896985054016, 0.6672534942626953, 0.6889671087265015, 0.704812228679657, 0.6924882531166077, 0.70363849401474, 0.7142018675804138, 0.7188966870307922, 0.7312206625938416, 0.7458920478820801, 0.7482394576072693, 0.7429577708244324, 0.7464788556098938, 0.7341549396514893, 0.7353286147117615, 0.7593896985054016, 0.7617371082305908, 0.7505868673324585, 0.7652581930160522, 0.7793427109718323, 0.7752347588539124, 0.7693662047386169, 0.7728873491287231, 0.7852112650871277, 0.7899060845375061, 0.7910798192024231, 0.7887324094772339, 0.79636150598526, 0.7987089157104492, 0.797535240650177, 0.8045774698257446, 0.7764084339141846, 0.8022300601005554, 0.8116196990013123, 0.8110328912734985, 0.8151408433914185, 0.8204225301742554, 0.8204225301742554, 0.8233568072319031, 0.8257042169570923, 0.8180751204490662, 0.8262910842895508, 0.8210093975067139, 0.8268779516220093, 0.8215962648391724, 0.8485915660858154, 0.8403756022453308, 0.8356807231903076, 0.8450704216957092, 0.8433098793029785, 0.8438966870307922, 0.86091548204422, 0.8339201807975769, 0.8497652411460876, 0.8550469279289246, 0.8597418069839478, 0.8497652411460876, 0.8597418069839478, 0.8409624695777893, 0.8626760840415955, 0.8568075299263, 0.8573943376541138, 0.8714788556098938, 0.8626760840415955, 0.8691314458847046, 0.8556337952613831, 0.8691314458847046, 0.8785211443901062, 0.8802816867828369, 0.8667840361595154, 0.8644366264343262, 0.8667840361595154, 0.8855633735656738, 0.8591549396514893, 0.8767605423927307, 0.8838028311729431, 0.8867371082305908, 0.8843896985054016, 0.8949530720710754, 0.8908450603485107, 0.873826265335083, 0.8873239159584045, 0.9031690359115601, 0.8926056623458862, 0.8931924700737, 0.8949530720710754, 0.9037558436393738]\n",
      "[0.37704917788505554, 0.5362997651100159, 0.5995315909385681, 0.601873517036438, 0.4379391074180603, 0.38641685247421265, 0.5878220200538635, 0.6323184967041016, 0.6393442749977112, 0.641686201095581, 0.6276346445083618, 0.6557376980781555, 0.6697892546653748, 0.6908665299415588, 0.646369993686676, 0.7119438052177429, 0.6978922486305237, 0.6768149733543396, 0.7353630065917969, 0.7119438052177429, 0.7423887848854065, 0.7283372282981873, 0.7423887848854065, 0.7540983557701111, 0.7236533761024475, 0.7025761008262634, 0.7447306513786316, 0.7517564296722412, 0.7681499123573303, 0.7119438052177429, 0.7423887848854065, 0.7470725774765015, 0.7447306513786316, 0.7517564296722412, 0.7494145035743713, 0.7704917788505554, 0.777517557144165, 0.7915691137313843, 0.7822014093399048, 0.7985948324203491, 0.8220140337944031, 0.7985948324203491, 0.7681499123573303, 0.7985948324203491, 0.7494145035743713, 0.7915691137313843, 0.7728337049484253, 0.8173301815986633, 0.7798594832420349, 0.824355959892273, 0.8220140337944031, 0.8407494425773621, 0.8313817381858826, 0.8266978859901428, 0.7798594832420349, 0.8290398120880127, 0.8266978859901428, 0.8266978859901428, 0.8173301815986633, 0.8337236642837524, 0.8032786846160889, 0.8477751612663269, 0.8430913090705872, 0.845433235168457, 0.8430913090705872, 0.8477751612663269, 0.8430913090705872, 0.8501170873641968, 0.8477751612663269, 0.868852436542511, 0.8501170873641968, 0.8407494425773621, 0.8032786846160889, 0.8126463890075684, 0.8711943626403809, 0.8782201409339905, 0.8407494425773621, 0.845433235168457, 0.8571428656578064, 0.8618267178535461, 0.845433235168457, 0.7962529063224792, 0.868852436542511, 0.8407494425773621, 0.8665105104446411, 0.8149883151054382, 0.8501170873641968, 0.864168643951416, 0.8829039931297302, 0.8548009395599365, 0.868852436542511, 0.8735362887382507, 0.8594847917556763, 0.8407494425773621, 0.864168643951416, 0.8805620670318604, 0.845433235168457, 0.8477751612663269, 0.8665105104446411, 0.8594847917556763]\n"
     ]
    }
   ],
   "source": [
    "acc = history.history['accuracy']\n",
    "val_acc = history.history['val_accuracy']\n",
    "epochs = range(len(acc))\n",
    "print(acc)\n",
    "print(val_acc)"
   ]
  },
  {
   "cell_type": "code",
   "execution_count": 14,
   "metadata": {},
   "outputs": [
    {
     "data": {
      "image/png": "[encoded data removed]",
      "text/plain": [
       "<Figure size 640x480 with 1 Axes>"
      ]
     },
     "metadata": {},
     "output_type": "display_data"
    },
    {
     "data": {
      "image/png": "[encoded data removed]",
      "text/plain": [
       "<Figure size 640x480 with 1 Axes>"
      ]
     },
     "metadata": {},
     "output_type": "display_data"
    }
   ],
   "source": [
    "plt.plot(epochs, acc, 'b', label='Training Accuracy')\n",
    "plt.plot(epochs, val_acc, 'r', label='Validation Accuracy')\n",
    "plt.title('Accuracy Graph')\n",
    "plt.legend()\n",
    "plt.figure()\n",
    "\n",
    "loss = history.history['loss']\n",
    "val_loss = history.history['val_loss']\n",
    "plt.plot(epochs, loss, 'b', label='Training Loss')\n",
    "plt.plot(epochs, val_loss, 'r', label='Validation Loss')\n",
    "plt.title('Loss Graph')\n",
    "plt.legend()\n",
    "plt.show()"
   ]
  },
  {
   "cell_type": "code",
   "execution_count": 15,
   "metadata": {},
   "outputs": [
    {
     "name": "stderr",
     "output_type": "stream",
     "text": [
      "/home/abdulrahman/anaconda3/lib/python3.11/site-packages/keras/src/engine/training.py:3103: UserWarning: You are saving your model as an HDF5 file via `model.save()`. This file format is considered legacy. We recommend using instead the native Keras format, e.g. `model.save('my_model.keras')`.\n",
      "  saving_api.save_model(\n"
     ]
    }
   ],
   "source": [
    "model.save(\"Waste35.h5\")\n",
    "model.save(\"Waste35.keras\")\n"
   ]
  }
 ],
 "metadata": {
  "kernelspec": {
   "display_name": "Python 3",
   "language": "python",
   "name": "python3"
  },
  "language_info": {
   "codemirror_mode": {
    "name": "ipython",
    "version": 3
   },
   "file_extension": ".py",
   "mimetype": "text/x-python",
   "name": "python",
   "nbconvert_exporter": "python",
   "pygments_lexer": "ipython3",
   "version": "undefined.undefined.undefined"
  }
 },
 "nbformat": 4,
 "nbformat_minor": 2
}
